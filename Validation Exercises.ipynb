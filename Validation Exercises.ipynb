{
 "cells": [
  {
   "cell_type": "markdown",
   "metadata": {},
   "source": [
    "## Validation Exercises"
   ]
  },
  {
   "cell_type": "markdown",
   "metadata": {},
   "source": [
    "Assume you want the user to ONLY enter 'P' or 'F' for the question “ do you work part-time or full-time”. You will have to validate their input and keep asking them to enter until you have a valid choice."
   ]
  },
  {
   "cell_type": "code",
   "execution_count": 2,
   "metadata": {},
   "outputs": [
    {
     "name": "stdout",
     "output_type": "stream",
     "text": [
      "Part-time or Full-time\n",
      "\n",
      "do you work part-time or full-time (P/F)p\n",
      "Invalid input, try again\n",
      "do you work part-time or full-time (P/F)P\n"
     ]
    }
   ],
   "source": [
    "print(\"Part-time or Full-time\\n\")\n",
    "\n",
    "while True:\n",
    "    question = input(\"do you work part-time or full-time (P/F)\")\n",
    "    if question == \"P\" or question == \"F\":\n",
    "        break;\n",
    "    print(\"Invalid input, try again\")"
   ]
  },
  {
   "cell_type": "markdown",
   "metadata": {},
   "source": [
    "Assume you want to user to only enter the valid menu options which are 1-5 and 0 to exit"
   ]
  },
  {
   "cell_type": "code",
   "execution_count": 1,
   "metadata": {},
   "outputs": [
    {
     "name": "stdout",
     "output_type": "stream",
     "text": [
      "Menu Options\n",
      "enter a menu option: 1-5 or 0 to exit0\n",
      "You have exited\n"
     ]
    }
   ],
   "source": [
    "print (\"Menu Options\")\n",
    "\n",
    "while True:\n",
    "    options = int(input(\"enter a menu option: 1-5 or 0 to exit\"))\n",
    "    if options == 1 or options == 2 or options == 3 or options == 4 or options == 5:\n",
    "        print (\"Valid menu option\")\n",
    "        break;\n",
    "    elif options == 0:\n",
    "        print (\"You have exited\")\n",
    "        break;\n",
    "    else:\n",
    "        print(\"Invalid input, try again\")"
   ]
  },
  {
   "cell_type": "markdown",
   "metadata": {},
   "source": [
    "Write code that validates numerical input for height where the valid range for heights is 0.75 - 1.3 meters\n"
   ]
  },
  {
   "cell_type": "code",
   "execution_count": 2,
   "metadata": {},
   "outputs": [
    {
     "name": "stdout",
     "output_type": "stream",
     "text": [
      "Height\n",
      "Enter height between 0.75 and 1.3 meters0.75\n",
      "Valid input\n"
     ]
    }
   ],
   "source": [
    "print (\"Height\")\n",
    "\n",
    "while True:\n",
    "    height = input(str(\"Enter height between 0.75 and 1.3 meters\"))\n",
    "    if height >= \"0.75\" or height == \"1.3\":\n",
    "        print (\"Valid input\")\n",
    "        break;\n",
    "    elif height < \"0.75\" or height > \"1.3\":\n",
    "        print (\"Invalid input, try again\")"
   ]
  }
 ],
 "metadata": {
  "kernelspec": {
   "display_name": "Python 3",
   "language": "python",
   "name": "python3"
  },
  "language_info": {
   "codemirror_mode": {
    "name": "ipython",
    "version": 3
   },
   "file_extension": ".py",
   "mimetype": "text/x-python",
   "name": "python",
   "nbconvert_exporter": "python",
   "pygments_lexer": "ipython3",
   "version": "3.5.2"
  }
 },
 "nbformat": 4,
 "nbformat_minor": 2
}
